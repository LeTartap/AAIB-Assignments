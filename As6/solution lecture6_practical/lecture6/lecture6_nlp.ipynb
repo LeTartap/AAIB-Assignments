{
 "nbformat": 4,
 "nbformat_minor": 0,
 "metadata": {
  "colab": {
   "provenance": [],
   "authorship_tag": "ABX9TyPShbSm16bYC5NAweLHjwpS"
  },
  "kernelspec": {
   "name": "python3",
   "display_name": "Python 3"
  },
  "language_info": {
   "name": "python"
  }
 },
 "cells": [
  {
   "cell_type": "markdown",
   "source": [
    "<img src=\"images/aaib.PNG\" style=\"width:400px;height:250px;\">"
   ],
   "metadata": {
    "id": "T5qk0H9Uj6oH"
   }
  },
  {
   "cell_type": "markdown",
   "metadata": {
    "id": "J9xf-uYGjo4o"
   },
   "source": [
    "# In this notebook:\n",
    "\n",
    "1. **Sentiment analysis** using bag of words\n",
    "\\\n",
    "&nbsp;\n",
    "2. **Topic modelling** using TF-IDF vectors"
   ]
  },
  {
   "cell_type": "markdown",
   "source": [
    "# Setup"
   ],
   "metadata": {
    "id": "mi8NcwBg0Chn"
   }
  },
  {
   "cell_type": "code",
   "execution_count": 18,
   "outputs": [
    {
     "name": "stdout",
     "output_type": "stream",
     "text": [
      "Found existing installation: scikit-learn 0.24.2\n",
      "Uninstalling scikit-learn-0.24.2:\n",
      "  Successfully uninstalled scikit-learn-0.24.2\n"
     ]
    }
   ],
   "source": [
    "!pip uninstall scikit-learn -y"
   ],
   "metadata": {
    "collapsed": false
   }
  },
  {
   "cell_type": "code",
   "execution_count": 19,
   "outputs": [
    {
     "name": "stdout",
     "output_type": "stream",
     "text": [
      "Collecting scikit-learn\n",
      "  Using cached scikit_learn-0.24.2-cp36-cp36m-win_amd64.whl (6.8 MB)\n",
      "Requirement already satisfied: numpy>=1.13.3 in c:\\users\\david\\appdata\\local\\programs\\python\\python36\\lib\\site-packages (from scikit-learn) (1.19.5)\n",
      "Requirement already satisfied: scipy>=0.19.1 in c:\\users\\david\\appdata\\local\\programs\\python\\python36\\lib\\site-packages (from scikit-learn) (1.5.4)\n",
      "Requirement already satisfied: joblib>=0.11 in c:\\users\\david\\appdata\\local\\programs\\python\\python36\\lib\\site-packages (from scikit-learn) (1.1.1)\n",
      "Requirement already satisfied: threadpoolctl>=2.0.0 in c:\\users\\david\\appdata\\local\\programs\\python\\python36\\lib\\site-packages (from scikit-learn) (3.1.0)\n",
      "Installing collected packages: scikit-learn\n",
      "Successfully installed scikit-learn-0.24.2\n"
     ]
    }
   ],
   "source": [
    "!pip install -U scikit-learn --upgrade"
   ],
   "metadata": {
    "collapsed": false
   }
  },
  {
   "cell_type": "code",
   "source": [
    "# Commonly used libraries\n",
    "import numpy as np\n",
    "import pandas as pd\n",
    "\n",
    "# From ScikitLearn\n",
    "from sklearn.model_selection import train_test_split\n",
    "from sklearn import svm\n",
    "from sklearn.metrics import confusion_matrix\n",
    "from sklearn.metrics import accuracy_score\n",
    "from sklearn.feature_extraction.text import TfidfVectorizer\n",
    "from sklearn.datasets import fetch_20newsgroups\n",
    "from sklearn.cluster import KMeans"
   ],
   "metadata": {
    "id": "nFqbtgBy0E_-",
    "executionInfo": {
     "status": "ok",
     "timestamp": 1684926031821,
     "user_tz": -120,
     "elapsed": 1214,
     "user": {
      "displayName": "Daniel Braun",
      "userId": "15950133624191176617"
     }
    }
   },
   "execution_count": 20,
   "outputs": []
  },
  {
   "cell_type": "markdown",
   "source": [
    "# Sentiment analysis\n",
    "\n",
    "Dataset: [Twitter US Airline Sentiment](https://https://www.kaggle.com/datasets/crowdflower/twitter-airline-sentiment)\n",
    "\n",
    "Sentiment can be negative, positive or neutral"
   ],
   "metadata": {
    "id": "iYkLblC9zbu0"
   }
  },
  {
   "cell_type": "code",
   "execution_count": 8,
   "metadata": {
    "colab": {
     "base_uri": "https://localhost:8080/",
     "height": 930
    },
    "id": "ED-BFA6bj1he",
    "executionInfo": {
     "status": "ok",
     "timestamp": 1684748410950,
     "user_tz": -120,
     "elapsed": 385,
     "user": {
      "displayName": "Daniel Braun",
      "userId": "15950133624191176617"
     }
    },
    "outputId": "f930d102-f060-4878-f1dd-5bdb74cc8606"
   },
   "outputs": [
    {
     "data": {
      "text/plain": "             tweet_id airline_sentiment  airline_sentiment_confidence  \\\n0  570306133677760513           neutral                        1.0000   \n1  570301130888122368          positive                        0.3486   \n2  570301083672813571           neutral                        0.6837   \n3  570301031407624196          negative                        1.0000   \n4  570300817074462722          negative                        1.0000   \n5  570300767074181121          negative                        1.0000   \n6  570300616901320704          positive                        0.6745   \n7  570300248553349120           neutral                        0.6340   \n8  570299953286942721          positive                        0.6559   \n9  570295459631263746          positive                        1.0000   \n\n  negativereason  negativereason_confidence         airline  \\\n0            NaN                        NaN  Virgin America   \n1            NaN                     0.0000  Virgin America   \n2            NaN                        NaN  Virgin America   \n3     Bad Flight                     0.7033  Virgin America   \n4     Can't Tell                     1.0000  Virgin America   \n5     Can't Tell                     0.6842  Virgin America   \n6            NaN                     0.0000  Virgin America   \n7            NaN                        NaN  Virgin America   \n8            NaN                        NaN  Virgin America   \n9            NaN                        NaN  Virgin America   \n\n  airline_sentiment_gold        name negativereason_gold  retweet_count  \\\n0                    NaN     cairdin                 NaN              0   \n1                    NaN    jnardino                 NaN              0   \n2                    NaN  yvonnalynn                 NaN              0   \n3                    NaN    jnardino                 NaN              0   \n4                    NaN    jnardino                 NaN              0   \n5                    NaN    jnardino                 NaN              0   \n6                    NaN  cjmcginnis                 NaN              0   \n7                    NaN       pilot                 NaN              0   \n8                    NaN    dhepburn                 NaN              0   \n9                    NaN  YupitsTate                 NaN              0   \n\n                                                text tweet_coord  \\\n0                @VirginAmerica What @dhepburn said.         NaN   \n1  @VirginAmerica plus you've added commercials t...         NaN   \n2  @VirginAmerica I didn't today... Must mean I n...         NaN   \n3  @VirginAmerica it's really aggressive to blast...         NaN   \n4  @VirginAmerica and it's a really big bad thing...         NaN   \n5  @VirginAmerica seriously would pay $30 a fligh...         NaN   \n6  @VirginAmerica yes, nearly every time I fly VX...         NaN   \n7  @VirginAmerica Really missed a prime opportuni...         NaN   \n8    @virginamerica Well, I didn't…but NOW I DO! :-D         NaN   \n9  @VirginAmerica it was amazing, and arrived an ...         NaN   \n\n               tweet_created    tweet_location               user_timezone  \n0  2015-02-24 11:35:52 -0800               NaN  Eastern Time (US & Canada)  \n1  2015-02-24 11:15:59 -0800               NaN  Pacific Time (US & Canada)  \n2  2015-02-24 11:15:48 -0800         Lets Play  Central Time (US & Canada)  \n3  2015-02-24 11:15:36 -0800               NaN  Pacific Time (US & Canada)  \n4  2015-02-24 11:14:45 -0800               NaN  Pacific Time (US & Canada)  \n5  2015-02-24 11:14:33 -0800               NaN  Pacific Time (US & Canada)  \n6  2015-02-24 11:13:57 -0800  San Francisco CA  Pacific Time (US & Canada)  \n7  2015-02-24 11:12:29 -0800       Los Angeles  Pacific Time (US & Canada)  \n8  2015-02-24 11:11:19 -0800         San Diego  Pacific Time (US & Canada)  \n9  2015-02-24 10:53:27 -0800       Los Angeles  Eastern Time (US & Canada)  ",
      "text/html": "<div>\n<style scoped>\n    .dataframe tbody tr th:only-of-type {\n        vertical-align: middle;\n    }\n\n    .dataframe tbody tr th {\n        vertical-align: top;\n    }\n\n    .dataframe thead th {\n        text-align: right;\n    }\n</style>\n<table border=\"1\" class=\"dataframe\">\n  <thead>\n    <tr style=\"text-align: right;\">\n      <th></th>\n      <th>tweet_id</th>\n      <th>airline_sentiment</th>\n      <th>airline_sentiment_confidence</th>\n      <th>negativereason</th>\n      <th>negativereason_confidence</th>\n      <th>airline</th>\n      <th>airline_sentiment_gold</th>\n      <th>name</th>\n      <th>negativereason_gold</th>\n      <th>retweet_count</th>\n      <th>text</th>\n      <th>tweet_coord</th>\n      <th>tweet_created</th>\n      <th>tweet_location</th>\n      <th>user_timezone</th>\n    </tr>\n  </thead>\n  <tbody>\n    <tr>\n      <th>0</th>\n      <td>570306133677760513</td>\n      <td>neutral</td>\n      <td>1.0000</td>\n      <td>NaN</td>\n      <td>NaN</td>\n      <td>Virgin America</td>\n      <td>NaN</td>\n      <td>cairdin</td>\n      <td>NaN</td>\n      <td>0</td>\n      <td>@VirginAmerica What @dhepburn said.</td>\n      <td>NaN</td>\n      <td>2015-02-24 11:35:52 -0800</td>\n      <td>NaN</td>\n      <td>Eastern Time (US &amp; Canada)</td>\n    </tr>\n    <tr>\n      <th>1</th>\n      <td>570301130888122368</td>\n      <td>positive</td>\n      <td>0.3486</td>\n      <td>NaN</td>\n      <td>0.0000</td>\n      <td>Virgin America</td>\n      <td>NaN</td>\n      <td>jnardino</td>\n      <td>NaN</td>\n      <td>0</td>\n      <td>@VirginAmerica plus you've added commercials t...</td>\n      <td>NaN</td>\n      <td>2015-02-24 11:15:59 -0800</td>\n      <td>NaN</td>\n      <td>Pacific Time (US &amp; Canada)</td>\n    </tr>\n    <tr>\n      <th>2</th>\n      <td>570301083672813571</td>\n      <td>neutral</td>\n      <td>0.6837</td>\n      <td>NaN</td>\n      <td>NaN</td>\n      <td>Virgin America</td>\n      <td>NaN</td>\n      <td>yvonnalynn</td>\n      <td>NaN</td>\n      <td>0</td>\n      <td>@VirginAmerica I didn't today... Must mean I n...</td>\n      <td>NaN</td>\n      <td>2015-02-24 11:15:48 -0800</td>\n      <td>Lets Play</td>\n      <td>Central Time (US &amp; Canada)</td>\n    </tr>\n    <tr>\n      <th>3</th>\n      <td>570301031407624196</td>\n      <td>negative</td>\n      <td>1.0000</td>\n      <td>Bad Flight</td>\n      <td>0.7033</td>\n      <td>Virgin America</td>\n      <td>NaN</td>\n      <td>jnardino</td>\n      <td>NaN</td>\n      <td>0</td>\n      <td>@VirginAmerica it's really aggressive to blast...</td>\n      <td>NaN</td>\n      <td>2015-02-24 11:15:36 -0800</td>\n      <td>NaN</td>\n      <td>Pacific Time (US &amp; Canada)</td>\n    </tr>\n    <tr>\n      <th>4</th>\n      <td>570300817074462722</td>\n      <td>negative</td>\n      <td>1.0000</td>\n      <td>Can't Tell</td>\n      <td>1.0000</td>\n      <td>Virgin America</td>\n      <td>NaN</td>\n      <td>jnardino</td>\n      <td>NaN</td>\n      <td>0</td>\n      <td>@VirginAmerica and it's a really big bad thing...</td>\n      <td>NaN</td>\n      <td>2015-02-24 11:14:45 -0800</td>\n      <td>NaN</td>\n      <td>Pacific Time (US &amp; Canada)</td>\n    </tr>\n    <tr>\n      <th>5</th>\n      <td>570300767074181121</td>\n      <td>negative</td>\n      <td>1.0000</td>\n      <td>Can't Tell</td>\n      <td>0.6842</td>\n      <td>Virgin America</td>\n      <td>NaN</td>\n      <td>jnardino</td>\n      <td>NaN</td>\n      <td>0</td>\n      <td>@VirginAmerica seriously would pay $30 a fligh...</td>\n      <td>NaN</td>\n      <td>2015-02-24 11:14:33 -0800</td>\n      <td>NaN</td>\n      <td>Pacific Time (US &amp; Canada)</td>\n    </tr>\n    <tr>\n      <th>6</th>\n      <td>570300616901320704</td>\n      <td>positive</td>\n      <td>0.6745</td>\n      <td>NaN</td>\n      <td>0.0000</td>\n      <td>Virgin America</td>\n      <td>NaN</td>\n      <td>cjmcginnis</td>\n      <td>NaN</td>\n      <td>0</td>\n      <td>@VirginAmerica yes, nearly every time I fly VX...</td>\n      <td>NaN</td>\n      <td>2015-02-24 11:13:57 -0800</td>\n      <td>San Francisco CA</td>\n      <td>Pacific Time (US &amp; Canada)</td>\n    </tr>\n    <tr>\n      <th>7</th>\n      <td>570300248553349120</td>\n      <td>neutral</td>\n      <td>0.6340</td>\n      <td>NaN</td>\n      <td>NaN</td>\n      <td>Virgin America</td>\n      <td>NaN</td>\n      <td>pilot</td>\n      <td>NaN</td>\n      <td>0</td>\n      <td>@VirginAmerica Really missed a prime opportuni...</td>\n      <td>NaN</td>\n      <td>2015-02-24 11:12:29 -0800</td>\n      <td>Los Angeles</td>\n      <td>Pacific Time (US &amp; Canada)</td>\n    </tr>\n    <tr>\n      <th>8</th>\n      <td>570299953286942721</td>\n      <td>positive</td>\n      <td>0.6559</td>\n      <td>NaN</td>\n      <td>NaN</td>\n      <td>Virgin America</td>\n      <td>NaN</td>\n      <td>dhepburn</td>\n      <td>NaN</td>\n      <td>0</td>\n      <td>@virginamerica Well, I didn't…but NOW I DO! :-D</td>\n      <td>NaN</td>\n      <td>2015-02-24 11:11:19 -0800</td>\n      <td>San Diego</td>\n      <td>Pacific Time (US &amp; Canada)</td>\n    </tr>\n    <tr>\n      <th>9</th>\n      <td>570295459631263746</td>\n      <td>positive</td>\n      <td>1.0000</td>\n      <td>NaN</td>\n      <td>NaN</td>\n      <td>Virgin America</td>\n      <td>NaN</td>\n      <td>YupitsTate</td>\n      <td>NaN</td>\n      <td>0</td>\n      <td>@VirginAmerica it was amazing, and arrived an ...</td>\n      <td>NaN</td>\n      <td>2015-02-24 10:53:27 -0800</td>\n      <td>Los Angeles</td>\n      <td>Eastern Time (US &amp; Canada)</td>\n    </tr>\n  </tbody>\n</table>\n</div>"
     },
     "execution_count": 8,
     "metadata": {},
     "output_type": "execute_result"
    }
   ],
   "source": [
    "data = pd.read_csv('datasets/Tweets.csv')\n",
    "data.head(10)"
   ]
  },
  {
   "cell_type": "code",
   "source": [
    "# We drop all columns but ID, sentiment, and text\n",
    "data = data[['tweet_id', 'airline_sentiment', 'text']]\n",
    "data.head(10)"
   ],
   "metadata": {
    "colab": {
     "base_uri": "https://localhost:8080/",
     "height": 363
    },
    "id": "0lIcxcPY1oq5",
    "executionInfo": {
     "status": "ok",
     "timestamp": 1684748942893,
     "user_tz": -120,
     "elapsed": 205,
     "user": {
      "displayName": "Daniel Braun",
      "userId": "15950133624191176617"
     }
    },
    "outputId": "ed9119c1-c121-43b3-a670-ececf7fd00cc"
   },
   "execution_count": 21,
   "outputs": [
    {
     "data": {
      "text/plain": "             tweet_id airline_sentiment  \\\n0  570306133677760513           neutral   \n1  570301130888122368          positive   \n2  570301083672813571           neutral   \n3  570301031407624196          negative   \n4  570300817074462722          negative   \n5  570300767074181121          negative   \n6  570300616901320704          positive   \n7  570300248553349120           neutral   \n8  570299953286942721          positive   \n9  570295459631263746          positive   \n\n                                                text  \n0                @VirginAmerica What @dhepburn said.  \n1  @VirginAmerica plus you've added commercials t...  \n2  @VirginAmerica I didn't today... Must mean I n...  \n3  @VirginAmerica it's really aggressive to blast...  \n4  @VirginAmerica and it's a really big bad thing...  \n5  @VirginAmerica seriously would pay $30 a fligh...  \n6  @VirginAmerica yes, nearly every time I fly VX...  \n7  @VirginAmerica Really missed a prime opportuni...  \n8    @virginamerica Well, I didn't…but NOW I DO! :-D  \n9  @VirginAmerica it was amazing, and arrived an ...  ",
      "text/html": "<div>\n<style scoped>\n    .dataframe tbody tr th:only-of-type {\n        vertical-align: middle;\n    }\n\n    .dataframe tbody tr th {\n        vertical-align: top;\n    }\n\n    .dataframe thead th {\n        text-align: right;\n    }\n</style>\n<table border=\"1\" class=\"dataframe\">\n  <thead>\n    <tr style=\"text-align: right;\">\n      <th></th>\n      <th>tweet_id</th>\n      <th>airline_sentiment</th>\n      <th>text</th>\n    </tr>\n  </thead>\n  <tbody>\n    <tr>\n      <th>0</th>\n      <td>570306133677760513</td>\n      <td>neutral</td>\n      <td>@VirginAmerica What @dhepburn said.</td>\n    </tr>\n    <tr>\n      <th>1</th>\n      <td>570301130888122368</td>\n      <td>positive</td>\n      <td>@VirginAmerica plus you've added commercials t...</td>\n    </tr>\n    <tr>\n      <th>2</th>\n      <td>570301083672813571</td>\n      <td>neutral</td>\n      <td>@VirginAmerica I didn't today... Must mean I n...</td>\n    </tr>\n    <tr>\n      <th>3</th>\n      <td>570301031407624196</td>\n      <td>negative</td>\n      <td>@VirginAmerica it's really aggressive to blast...</td>\n    </tr>\n    <tr>\n      <th>4</th>\n      <td>570300817074462722</td>\n      <td>negative</td>\n      <td>@VirginAmerica and it's a really big bad thing...</td>\n    </tr>\n    <tr>\n      <th>5</th>\n      <td>570300767074181121</td>\n      <td>negative</td>\n      <td>@VirginAmerica seriously would pay $30 a fligh...</td>\n    </tr>\n    <tr>\n      <th>6</th>\n      <td>570300616901320704</td>\n      <td>positive</td>\n      <td>@VirginAmerica yes, nearly every time I fly VX...</td>\n    </tr>\n    <tr>\n      <th>7</th>\n      <td>570300248553349120</td>\n      <td>neutral</td>\n      <td>@VirginAmerica Really missed a prime opportuni...</td>\n    </tr>\n    <tr>\n      <th>8</th>\n      <td>570299953286942721</td>\n      <td>positive</td>\n      <td>@virginamerica Well, I didn't…but NOW I DO! :-D</td>\n    </tr>\n    <tr>\n      <th>9</th>\n      <td>570295459631263746</td>\n      <td>positive</td>\n      <td>@VirginAmerica it was amazing, and arrived an ...</td>\n    </tr>\n  </tbody>\n</table>\n</div>"
     },
     "execution_count": 21,
     "metadata": {},
     "output_type": "execute_result"
    }
   ]
  },
  {
   "cell_type": "code",
   "source": [
    "from sklearn.feature_extraction.text import CountVectorizer\n",
    "import sklearn\n",
    "print(sklearn.__version__)\n",
    "\n",
    "# Now we use a bag of word vectorizer that can turn a text into a vector\n",
    "vectorizer = CountVectorizer()\n",
    "vectorizer.fit(data.text)\n",
    "\n",
    "# How many words do we have in our corpus?\n",
    "print(\"Dimensions of the vectors: \" + str(vectorizer.get_feature_names_out().size))\n",
    "\n",
    "# Show a random word\n",
    "print(\"\\nDimension number 2000 represents the word: \" + vectorizer.get_feature_names_out()[2000])\n",
    "\n",
    "# Convert all texts into BoW representation\n",
    "X = vectorizer.transform(data.text)\n",
    "print(\"\\n\" + str(X.shape))"
   ],
   "metadata": {
    "colab": {
     "base_uri": "https://localhost:8080/"
    },
    "id": "d9RAd70g2osJ",
    "executionInfo": {
     "status": "ok",
     "timestamp": 1684749505418,
     "user_tz": -120,
     "elapsed": 1074,
     "user": {
      "displayName": "Daniel Braun",
      "userId": "15950133624191176617"
     }
    },
    "outputId": "c91d091d-ef83-4122-ad81-adc41df19e91"
   },
   "execution_count": 23,
   "outputs": [
    {
     "name": "stdout",
     "output_type": "stream",
     "text": [
      "0.24.2\n"
     ]
    },
    {
     "ename": "AttributeError",
     "evalue": "'CountVectorizer' object has no attribute 'get_feature_names_out'",
     "output_type": "error",
     "traceback": [
      "\u001B[1;31m---------------------------------------------------------------------------\u001B[0m",
      "\u001B[1;31mAttributeError\u001B[0m                            Traceback (most recent call last)",
      "\u001B[1;32m<ipython-input-23-8c1d2a8d6088>\u001B[0m in \u001B[0;36m<module>\u001B[1;34m\u001B[0m\n\u001B[0;32m      8\u001B[0m \u001B[1;33m\u001B[0m\u001B[0m\n\u001B[0;32m      9\u001B[0m \u001B[1;31m# How many words do we have in our corpus?\u001B[0m\u001B[1;33m\u001B[0m\u001B[1;33m\u001B[0m\u001B[1;33m\u001B[0m\u001B[0m\n\u001B[1;32m---> 10\u001B[1;33m \u001B[0mprint\u001B[0m\u001B[1;33m(\u001B[0m\u001B[1;34m\"Dimensions of the vectors: \"\u001B[0m \u001B[1;33m+\u001B[0m \u001B[0mstr\u001B[0m\u001B[1;33m(\u001B[0m\u001B[0mvectorizer\u001B[0m\u001B[1;33m.\u001B[0m\u001B[0mget_feature_names_out\u001B[0m\u001B[1;33m(\u001B[0m\u001B[1;33m)\u001B[0m\u001B[1;33m.\u001B[0m\u001B[0msize\u001B[0m\u001B[1;33m)\u001B[0m\u001B[1;33m)\u001B[0m\u001B[1;33m\u001B[0m\u001B[1;33m\u001B[0m\u001B[0m\n\u001B[0m\u001B[0;32m     11\u001B[0m \u001B[1;33m\u001B[0m\u001B[0m\n\u001B[0;32m     12\u001B[0m \u001B[1;31m# Show a random word\u001B[0m\u001B[1;33m\u001B[0m\u001B[1;33m\u001B[0m\u001B[1;33m\u001B[0m\u001B[0m\n",
      "\u001B[1;31mAttributeError\u001B[0m: 'CountVectorizer' object has no attribute 'get_feature_names_out'"
     ]
    }
   ]
  },
  {
   "cell_type": "code",
   "source": [
    "# Let's split the data to training and test (you already know this)\n",
    "X_train, X_test, y_train, y_test = train_test_split(X, data.airline_sentiment, test_size = 0.2, random_state = 0)\n",
    "\n",
    "# Let's train an SVM to do the sentiment analysis\n",
    "clf_svm = svm.SVC(max_iter=1000, gamma='scale', kernel = \"rbf\", random_state=0)\n",
    "clf_svm.fit(X_train, y_train)"
   ],
   "metadata": {
    "colab": {
     "base_uri": "https://localhost:8080/",
     "height": 132
    },
    "id": "eNpgHtet5u5q",
    "executionInfo": {
     "status": "ok",
     "timestamp": 1684750069511,
     "user_tz": -120,
     "elapsed": 5886,
     "user": {
      "displayName": "Daniel Braun",
      "userId": "15950133624191176617"
     }
    },
    "outputId": "3fc9e54a-8241-4d22-b00d-f8d9ae56c0a4"
   },
   "execution_count": null,
   "outputs": []
  },
  {
   "cell_type": "code",
   "source": [
    "# Use the SVM to make predictions for the test set\n",
    "y_pred = clf_svm.predict(X_test)\n",
    "\n",
    "# Let's evaluate the performance\n",
    "print(\"Confusion matrix\")\n",
    "print(clf_svm.classes_)\n",
    "print(confusion_matrix(y_test, y_pred))\n",
    "\n",
    "print(\"\\nAccuracy\")\n",
    "print(accuracy_score(y_test, y_pred))"
   ],
   "metadata": {
    "colab": {
     "base_uri": "https://localhost:8080/"
    },
    "id": "SSozPY1J7Cj3",
    "executionInfo": {
     "status": "ok",
     "timestamp": 1684750241783,
     "user_tz": -120,
     "elapsed": 1677,
     "user": {
      "displayName": "Daniel Braun",
      "userId": "15950133624191176617"
     }
    },
    "outputId": "11a73242-f7ca-44c8-cff9-0b097aa63820"
   },
   "execution_count": null,
   "outputs": []
  },
  {
   "cell_type": "markdown",
   "source": [
    "# Topic Modelling\n",
    "\n",
    "We use the [20 newsgroups text dataset](https://scikit-learn.org/stable/datasets/real_world.html#the-20-newsgroups-text-dataset), a standard dataset provided by scikit consisting of 18.846 texts from 20 topics "
   ],
   "metadata": {
    "id": "C4bmRV4X8knF"
   }
  },
  {
   "cell_type": "code",
   "source": [
    "data_train = fetch_20newsgroups(subset='train') "
   ],
   "metadata": {
    "id": "8V2E3eim9wtr",
    "executionInfo": {
     "status": "ok",
     "timestamp": 1684921440912,
     "user_tz": -120,
     "elapsed": 16849,
     "user": {
      "displayName": "Daniel Braun",
      "userId": "15950133624191176617"
     }
    }
   },
   "execution_count": null,
   "outputs": []
  },
  {
   "cell_type": "code",
   "source": [
    "print(\"Topics: \" + str(data_train.target_names))\n",
    "\n",
    "print(\"\\nData example:\")\n",
    "print(data_train.target_names[data_train.target[200]]) # we choose an unsupervised approach so we won't need them\n",
    "print(data_train.data[200])"
   ],
   "metadata": {
    "colab": {
     "base_uri": "https://localhost:8080/"
    },
    "id": "F02HSsYT987T",
    "executionInfo": {
     "status": "ok",
     "timestamp": 1684921448997,
     "user_tz": -120,
     "elapsed": 409,
     "user": {
      "displayName": "Daniel Braun",
      "userId": "15950133624191176617"
     }
    },
    "outputId": "aa527237-09e9-4af9-f325-3ce9babbb785"
   },
   "execution_count": null,
   "outputs": []
  },
  {
   "cell_type": "code",
   "source": [
    "# Tf-idf Vectorizer to turn the texts into Tf-idf vectors\n",
    "vectorizer = TfidfVectorizer()\n",
    "X = vectorizer.fit_transform(data_train.data)"
   ],
   "metadata": {
    "id": "yAe7nDD9JQh-",
    "executionInfo": {
     "status": "ok",
     "timestamp": 1684924592748,
     "user_tz": -120,
     "elapsed": 5540,
     "user": {
      "displayName": "Daniel Braun",
      "userId": "15950133624191176617"
     }
    }
   },
   "execution_count": null,
   "outputs": []
  },
  {
   "cell_type": "code",
   "source": [
    "# What are the most important words in a document?\n",
    "feature_array = np.array(vectorizer.get_feature_names_out())\n",
    "\n",
    "tfidf_sorting = np.argsort(X[200].toarray()).flatten()[::-1]\n",
    "n = 5\n",
    "top_n = feature_array[tfidf_sorting][:n]\n",
    "print(top_n)\n"
   ],
   "metadata": {
    "colab": {
     "base_uri": "https://localhost:8080/"
    },
    "id": "_5q6aCjBVMUm",
    "executionInfo": {
     "status": "ok",
     "timestamp": 1684925040124,
     "user_tz": -120,
     "elapsed": 417,
     "user": {
      "displayName": "Daniel Braun",
      "userId": "15950133624191176617"
     }
    },
    "outputId": "e22c7990-826c-4957-cc46-6c652276cdd1"
   },
   "execution_count": null,
   "outputs": []
  },
  {
   "cell_type": "code",
   "source": [
    "# Now cluster them\n",
    "\n",
    "kmeans = KMeans(n_clusters=6, random_state=0, n_init=\"auto\").fit(X)\n"
   ],
   "metadata": {
    "id": "BMtHkVHcX5Ny",
    "executionInfo": {
     "status": "ok",
     "timestamp": 1684928544874,
     "user_tz": -120,
     "elapsed": 3622,
     "user": {
      "displayName": "Daniel Braun",
      "userId": "15950133624191176617"
     }
    }
   },
   "execution_count": null,
   "outputs": []
  }
 ]
}
